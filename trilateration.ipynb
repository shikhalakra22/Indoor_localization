{
 "cells": [
  {
   "cell_type": "code",
   "execution_count": 6,
   "metadata": {},
   "outputs": [
    {
     "name": "stdout",
     "output_type": "stream",
     "text": [
      "x1 = 3\n",
      "y1 = 2\n",
      "x2 = 4\n",
      "y2 = 1\n",
      "x3 = 5\n",
      "y3 = 6\n",
      "d1 = 3\n",
      "d2 = 4\n",
      "d3 = 1\n",
      "(x,y) = (3.6666666666666665,5.166666666666667)\n"
     ]
    }
   ],
   "source": [
    "from math import pow\n",
    "x1 = int(input(\"x1 = \"))\n",
    "y1 = int(input(\"y1 = \"))\n",
    "\n",
    "x2 = int(input(\"x2 = \"))\n",
    "y2 = int(input(\"y2 = \"))\n",
    "\n",
    "x3 = int(input(\"x3 = \"))\n",
    "y3 = int(input(\"y3 = \"))\n",
    "# make the points in a 2d tuple if you want to use static points later\n",
    "R1 = (x1,y1)\n",
    "R2 = (x2,y2)\n",
    "R3 = (x3,y3)\n",
    "# you have to introduce the distances \n",
    "d1 = int(input(\"d1 = \"))\n",
    "d2 = int(input(\"d2 = \"))\n",
    "d3 = int(input(\"d3 = \"))\n",
    "\n",
    "# if d1 ,d2 and d3 in known\n",
    "# calculate A ,B and C coifficents\n",
    "A = int(pow (R1[0], 2)) + int(pow (R1[1], 2))- int(pow (d1, 2))\n",
    "B = int(pow (R2[0], 2)) + int(pow (R2[1], 2))- int(pow (d2, 2))\n",
    "C = int(pow (R3[0], 2)) + int(pow (R3[1], 2))- int(pow (d3, 2))\n",
    "X32 = R3[0] - R2[0]\n",
    "X13 = R1[0] - R3[0]\n",
    "X21 = R2[0] - R1[0]\n",
    "\n",
    "Y32 = R3[1] - R2[1]\n",
    "Y13 = R1[1] - R3[1]\n",
    "Y21 = R2[1] - R1[1]\n",
    "\n",
    "x = (A * Y32 + B * Y13 + C * Y21)/(2.0*(R1[0]*Y32 + R2[0]*Y13 + R3[0]*Y21))\n",
    "y = (A * X32 + B * X13 + C * X21)/(2.0*(R1[1]*X32 + R2[1]*X13 + R3[1]*X21))\n",
    "# prompt the result\n",
    "print (\"(x,y) = (\"+str(x)+\",\"+str(y)+\")\")"
   ]
  },
  {
   "cell_type": "code",
   "execution_count": null,
   "metadata": {
    "collapsed": true
   },
   "outputs": [],
   "source": []
  }
 ],
 "metadata": {
  "kernelspec": {
   "display_name": "Python 3",
   "language": "python",
   "name": "python3"
  },
  "language_info": {
   "codemirror_mode": {
    "name": "ipython",
    "version": 3
   },
   "file_extension": ".py",
   "mimetype": "text/x-python",
   "name": "python",
   "nbconvert_exporter": "python",
   "pygments_lexer": "ipython3",
   "version": "3.6.3"
  }
 },
 "nbformat": 4,
 "nbformat_minor": 2
}
